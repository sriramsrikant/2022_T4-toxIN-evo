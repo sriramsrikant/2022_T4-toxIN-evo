{
 "cells": [
  {
   "cell_type": "markdown",
   "id": "d3b0ea00-67e8-4730-9c52-14f39f415b20",
   "metadata": {},
   "source": [
    "# Notebook for generating figures for T4CGAp5 evolving populations\n",
    "written by Sri Srikant\n",
    "[211130] Intiating the notebook"
   ]
  },
  {
   "cell_type": "code",
   "execution_count": 2,
   "id": "8a5acd6e-9cbb-4629-b039-0095782562b7",
   "metadata": {},
   "outputs": [
    {
     "name": "stdout",
     "output_type": "stream",
     "text": [
      "List of directories of Computational analysis:\n",
      "20210314_T4CGAp5_61p4-locus-image\n",
      "20210411_T4CGAp5_coverage-maps\n",
      "20210802_ECOR17-defense-genes\n",
      "20211102_hosts-defense-genes\n",
      "20211130_T4CGAp5_evo-pop\n",
      "20211201_T4-gene-classification_MandyL\n",
      "20220124_T4CGAp5p25_genome-deletions\n"
     ]
    }
   ],
   "source": [
    "##Libaries and packages used in this notebook. Version information recorded where appropriate.\n",
    "import os\n",
    "import sys\n",
    "import shutil\n",
    "import glob\n",
    "import subprocess\n",
    "\n",
    "import traceback\n",
    "import re\n",
    "import collections\n",
    "\n",
    "import csv\n",
    "import pandas as pd\n",
    "\n",
    "from pylab import *\n",
    "import matplotlib\n",
    "import matplotlib.pyplot as plt\n",
    "import seaborn as sns\n",
    "\n",
    "##Set pdf ouput of matplotlib to have embedded fonts that are editable in Illustrator\n",
    "plt.rcParams['pdf.fonttype'] = 42\n",
    "\n",
    "#Directories\n",
    "home_dir = os.path.join(\"/home\", \"ssrikant\")\n",
    "data_dir = os.path.join(home_dir, \"WindowsFiles\", \"postdoc_data\", \"Computational\", \"Appelmans\", \"Ap05_T4CG\")\n",
    "print(\"List of directories of Computational analysis:\")\n",
    "print(\"\\n\".join([d for d in os.listdir(data_dir) if os.path.isdir(os.path.join(data_dir, d))]))\n",
    "\n",
    "#Magic commands\n",
    "%matplotlib inline"
   ]
  },
  {
   "cell_type": "code",
   "execution_count": 11,
   "id": "cf3a3e38-780c-4c61-b322-302e82d1ea5f",
   "metadata": {},
   "outputs": [],
   "source": [
    "##Funstions to be used\n",
    "def genome_increase_median(row):\n",
    "    return(round(row['MedianAmplificationSize']-row['RepeatSize']))\n",
    "def genome_increase_25quartile(row):\n",
    "    return(round(row['25QuartileAmplification']-row['RepeatSize']))\n",
    "def genome_increase_75quartile(row):\n",
    "    return(round(row['75QuartileAmplification']-row['RepeatSize']))"
   ]
  },
  {
   "cell_type": "markdown",
   "id": "913fab4a-04cf-4a6f-b8aa-06b4180f577f",
   "metadata": {},
   "source": [
    "### Figure 4 heatmap for evolving populations"
   ]
  },
  {
   "cell_type": "code",
   "execution_count": 2,
   "id": "211c078c-064c-42fe-9dbb-94f3f591daad",
   "metadata": {},
   "outputs": [
    {
     "name": "stdout",
     "output_type": "stream",
     "text": [
      "20211130_T4CGAp5_evolving-populations.csv\n",
      "20211130_T4CGAp5_evolving-populations-raw-titer.csv\n",
      "20211130_T4CGAp5p25-clones_host-spot-test.csv\n",
      "20211211_T4CGAp5p25-clones_host-spot-test.csv\n",
      "['Round' 'pop00' 'pop01' 'pop02' 'pop03' 'pop04' 'pop05']\n",
      "['Round' 'pop00' 'pop01' 'pop02' 'pop03' 'pop04' 'pop05']\n",
      "[[0 0 0 0 0 0 0 0 0 0 0 0 0 0 0 0 0 0 0 0 0 0 0 0 0 0]\n",
      " [0 0 0 0 0 0 0 2 3 3 4 3 4 4 4 3 4 5 5 1 3 3 3 3 3 4]\n",
      " [0 0 0 0 0 0 0 0 0 0 0 0 0 0 0 3 3 5 4 1 1 3 5 4 4 4]\n",
      " [0 0 0 3 4 4 4 4 4 5 5 5 4 5 5 5 5 5 5 4 4 4 3 4 4 4]\n",
      " [0 0 0 0 0 0 0 0 0 0 0 0 4 4 4 4 4 5 4 3 4 4 3 3 3 4]\n",
      " [0 0 4 3 4 4 3 4 4 4 4 4 4 4 5 4 4 5 4 4 4 4 3 3 3 4]]\n"
     ]
    }
   ],
   "source": [
    "##Import csv of data\n",
    "csv_data_dir = os.path.join(data_dir, \"20211130_T4CGAp5_evo-pop\")\n",
    "csv_file_list = [f for f in os.listdir(csv_data_dir) if f.endswith(\".csv\")]\n",
    "print(\"\\n\".join(csv_file_list))\n",
    "\n",
    "evol_pop_freq_frame = pd.read_csv(os.path.join(csv_data_dir, \"20211130_T4CGAp5_evolving-populations.csv\"), sep=\",\")\n",
    "print(evol_pop_freq_frame.columns.values)\n",
    "\n",
    "evol_pop_titer_frame = pd.read_csv(os.path.join(csv_data_dir, \"20211130_T4CGAp5_evolving-populations-raw-titer.csv\"), sep=\",\")\n",
    "print(evol_pop_titer_frame.columns.values)\n",
    "\n",
    "##Extract data as 2d array\n",
    "heatmap_2d_freq_data = evol_pop_freq_frame[['pop00', 'pop01', 'pop02', 'pop03', 'pop04', 'pop05']].values.transpose()\n",
    "heatmap_2d_titer_data = evol_pop_titer_frame[['pop00', 'pop01', 'pop02', 'pop03', 'pop04', 'pop05']].values.transpose()\n",
    "print(heatmap_2d_titer_data)"
   ]
  },
  {
   "cell_type": "code",
   "execution_count": 3,
   "id": "963458b4-731e-4432-8e0d-2f0cd5dd5302",
   "metadata": {},
   "outputs": [
    {
     "data": {
      "image/png": "[encoded data removed]",
      "text/plain": [
       "<Figure size 720x216 with 2 Axes>"
      ]
     },
     "metadata": {
      "needs_background": "light"
     },
     "output_type": "display_data"
    }
   ],
   "source": [
    "##Plotting the evo-pop-freq as a heatmap.\n",
    "fig1, ax1 = plt.subplots(1, 1, figsize=(10,3))\n",
    "ax1 = sns.heatmap(heatmap_2d_freq_data, cmap=\"Greens\", linewidth=1, linecolor='Black', yticklabels=['pop00', 'pop01', 'pop02', 'pop03', 'pop04', 'pop05'])\n",
    "#savefig(os.path.join(csv_data_dir, \"T4CGAp5p25_evo-pop-freq_Figure4_220101.pdf\"), dpi=300, transparent=True)"
   ]
  },
  {
   "cell_type": "code",
   "execution_count": 19,
   "id": "1efeda30-22ef-4ca1-8bf7-cd948746ec6f",
   "metadata": {},
   "outputs": [
    {
     "data": {
      "image/png": "[encoded data removed]",
      "text/plain": [
       "<Figure size 864x288 with 2 Axes>"
      ]
     },
     "metadata": {
      "needs_background": "light"
     },
     "output_type": "display_data"
    }
   ],
   "source": [
    "##Plotting the evo-pop-freq as a heatmap.\n",
    "green_palette = sns.cubehelix_palette(start=2, rot=0, dark=0.4, light=1)\n",
    "fig2, ax2 = plt.subplots(1, 1, figsize=(12,4))\n",
    "ax2 = sns.heatmap(heatmap_2d_titer_data, cmap=green_palette, linewidth=0.5, linecolor='Black', yticklabels=['pop00', 'pop01', 'pop02', 'pop03', 'pop04', 'pop05'], vmin=-0.5, vmax=5.5)\n",
    "#savefig(os.path.join(csv_data_dir, \"T4CGAp5p25_evo-pop-titer_Figure4_220101.pdf\"), dpi=300, transparent=True)"
   ]
  },
  {
   "cell_type": "code",
   "execution_count": 7,
   "id": "fa7207ab-8638-43f2-8ac8-a3a6da64570e",
   "metadata": {},
   "outputs": [
    {
     "data": {
      "image/png": "[encoded data removed]",
      "text/plain": [
       "<Figure size 432x72 with 1 Axes>"
      ]
     },
     "metadata": {
      "needs_background": "light"
     },
     "output_type": "display_data"
    }
   ],
   "source": [
    "sns.palplot(sns.cubehelix_palette(start=2, rot=0, dark=0.4, light=1))"
   ]
  },
  {
   "cell_type": "markdown",
   "id": "775c9fd3-9229-45ab-b1b3-861c4e9284d8",
   "metadata": {},
   "source": [
    "### Figure 6 heatmap for T4CGAp5p25-clones host-spot-assay"
   ]
  },
  {
   "cell_type": "code",
   "execution_count": 2,
   "id": "0294df39-c64e-4df7-9457-5bbfd03922da",
   "metadata": {},
   "outputs": [
    {
     "name": "stdout",
     "output_type": "stream",
     "text": [
      "20211130_T4CGAp5_evolving-populations.csv\n",
      "20211130_T4CGAp5_evolving-populations-raw-titer.csv\n",
      "20211130_T4CGAp5p25-clones_host-spot-test.csv\n",
      "20211211_T4CGAp5p25-clones_host-spot-test.csv\n",
      "20220123_T4CGAp5p25-clones_host-spot-test.csv\n",
      "['Phage' 'MG1655' 'MG1655+toxIN' 'E. coli str. C' 'MG1655 ?-lysogen'\n",
      " 'ECOR13' 'ECOR16' 'ECOR17' 'ECOR71']\n",
      "['T4 anc', 'ctrl evo / cl01', 'evo 1 / cl01', 'evo 2 / cl01', 'evo 3 / cl01', 'evo 4 / cl01', 'evo 5 / cl03']\n",
      "[[ 0  0  0  0  0  0  0  0]\n",
      " [ 0  0  0  0  0  0  0  0]\n",
      " [ 0  5  0  0  0  0 -6 -5]\n",
      " [ 0  6  0  0  0  0 -5  0]\n",
      " [ 0  6 -3 -5  0  0 -5 -5]\n",
      " [ 0  6  0  0  0  0  0  0]\n",
      " [ 0  5 -4  0  0  0 -6  0]]\n"
     ]
    }
   ],
   "source": [
    "##Import csv of data\n",
    "csv_data_dir = os.path.join(data_dir, \"20211130_T4CGAp5_evo-pop\")\n",
    "csv_file_list = [f for f in os.listdir(csv_data_dir) if f.endswith(\".csv\")]\n",
    "print(\"\\n\".join(csv_file_list))\n",
    "\n",
    "#evol_cl_host_test_frame = pd.read_csv(os.path.join(csv_data_dir, \"20211130_T4CGAp5p25-clones_host-spot-test.csv\"), sep=\",\")\n",
    "#evol_cl_host_test_frame = pd.read_csv(os.path.join(csv_data_dir, \"20211211_T4CGAp5p25-clones_host-spot-test.csv\"), sep=\",\")\n",
    "evol_cl_host_test_frame = pd.read_csv(os.path.join(csv_data_dir, \"20220123_T4CGAp5p25-clones_host-spot-test.csv\"), sep=\",\")\n",
    "print(evol_cl_host_test_frame.columns.values)\n",
    "\n",
    "##Extract data as 2d array\n",
    "heatmap_2d_host_relEOP_data = evol_cl_host_test_frame[['MG1655','MG1655+toxIN','E. coli str. C','MG1655 ?-lysogen','ECOR13','ECOR16','ECOR17','ECOR71']].values\n",
    "phage_list = evol_cl_host_test_frame[['Phage']].values.transpose().tolist()[0]\n",
    "print(phage_list)\n",
    "print(heatmap_2d_host_relEOP_data)"
   ]
  },
  {
   "cell_type": "code",
   "execution_count": 4,
   "id": "c4031bb6-4f2f-4c84-bba7-1fa3624ecfce",
   "metadata": {},
   "outputs": [
    {
     "data": {
      "image/png": "[encoded data removed]",
      "text/plain": [
       "<Figure size 720x216 with 2 Axes>"
      ]
     },
     "metadata": {
      "needs_background": "light"
     },
     "output_type": "display_data"
    }
   ],
   "source": [
    "##Plotting the evo-pop-freq as a heatmap.\n",
    "###coolwarm_r is Blue-Grey-Red divergent palette.\n",
    "heatmap_colors = sns.color_palette(\"Reds_r\", 6) + [matplotlib.colors.to_rgb('white')] + sns.color_palette(\"Blues\", 6)\n",
    "fig3, ax3 = plt.subplots(1, 1, figsize=(10,3))\n",
    "ax3 = sns.heatmap(heatmap_2d_host_relEOP_data, cmap=heatmap_colors, linewidth=1, linecolor='Black', square=True, vmin=-6.5, vmax=6.5,\n",
    "                  xticklabels=['MG1655','MG1655+toxIN','E. coli str. C','MG1655 ?-lysogen','ECOR13','ECOR16','ECOR17','ECOR71'], yticklabels=phage_list)\n",
    "#savefig(os.path.join(csv_data_dir, \"T4CGAp5p25-clones_host-relEOP_Figure6_220123.pdf\"), dpi=300, transparent=True)"
   ]
  },
  {
   "cell_type": "code",
   "execution_count": 30,
   "id": "521e08c5-d192-4499-8e0b-47734e854e27",
   "metadata": {},
   "outputs": [
    {
     "data": {
      "image/png": "[encoded data removed]",
      "text/plain": [
       "<Figure size 936x72 with 1 Axes>"
      ]
     },
     "metadata": {
      "needs_background": "light"
     },
     "output_type": "display_data"
    }
   ],
   "source": [
    "sns.palplot(sns.color_palette(\"Reds_r\", 6) + [matplotlib.colors.to_rgb('white')] + sns.color_palette(\"Blues\", 6))"
   ]
  },
  {
   "cell_type": "code",
   "execution_count": 3,
   "id": "1ae352a2-e294-405b-87cf-bc3dcf4e7555",
   "metadata": {},
   "outputs": [
    {
     "data": {
      "image/png": "[encoded data removed]",
      "text/plain": [
       "<Figure size 576x72 with 1 Axes>"
      ]
     },
     "metadata": {
      "needs_background": "light"
     },
     "output_type": "display_data"
    }
   ],
   "source": [
    "sns.palplot(sns.color_palette(\"Reds_r\", 8))"
   ]
  },
  {
   "cell_type": "markdown",
   "id": "7aaa4199-a323-4b81-891e-e43110c052b2",
   "metadata": {},
   "source": [
    "### Figure 5 scatter for T4CGAp5p25-clones deletion-size vs inferred amplification size"
   ]
  },
  {
   "cell_type": "code",
   "execution_count": 12,
   "id": "5682d299-a59d-4b3d-a451-9580e825203b",
   "metadata": {},
   "outputs": [
    {
     "name": "stdout",
     "output_type": "stream",
     "text": [
      "20211130_T4CGAp5p25-clones05_deletion_amp-size.csv\n",
      "20220401_T4CGAp5p25-clones05_deletion_amp-size.csv\n",
      "['Strain' 'RepeatSize' 'MedianAmplificationSize' '25QuartileAmplification'\n",
      " '75QuartileAmplification' 'DeletionSize']\n"
     ]
    },
    {
     "data": {
      "text/html": [
       "<div>\n",
       "<style scoped>\n",
       "    .dataframe tbody tr th:only-of-type {\n",
       "        vertical-align: middle;\n",
       "    }\n",
       "\n",
       "    .dataframe tbody tr th {\n",
       "        vertical-align: top;\n",
       "    }\n",
       "\n",
       "    .dataframe thead th {\n",
       "        text-align: right;\n",
       "    }\n",
       "</style>\n",
       "<table border=\"1\" class=\"dataframe\">\n",
       "  <thead>\n",
       "    <tr style=\"text-align: right;\">\n",
       "      <th></th>\n",
       "      <th>Strain</th>\n",
       "      <th>RepeatSize</th>\n",
       "      <th>MedianAmplificationSize</th>\n",
       "      <th>25QuartileAmplification</th>\n",
       "      <th>75QuartileAmplification</th>\n",
       "      <th>DeletionSize</th>\n",
       "      <th>MedianGenomeIncrease</th>\n",
       "      <th>25QuartileGenomeIncrease</th>\n",
       "      <th>75QuartileGenomeIncrease</th>\n",
       "    </tr>\n",
       "  </thead>\n",
       "  <tbody>\n",
       "    <tr>\n",
       "      <th>0</th>\n",
       "      <td>T4CGAp5p25p00p01</td>\n",
       "      <td>1601</td>\n",
       "      <td>1734.873363</td>\n",
       "      <td>1328.132718</td>\n",
       "      <td>2340.833916</td>\n",
       "      <td>0</td>\n",
       "      <td>134</td>\n",
       "      <td>-273</td>\n",
       "      <td>740</td>\n",
       "    </tr>\n",
       "    <tr>\n",
       "      <th>1</th>\n",
       "      <td>T4CGAp5p25p01p01</td>\n",
       "      <td>1601</td>\n",
       "      <td>12989.967170</td>\n",
       "      <td>9658.754419</td>\n",
       "      <td>19141.254200</td>\n",
       "      <td>10812</td>\n",
       "      <td>11389</td>\n",
       "      <td>8058</td>\n",
       "      <td>17540</td>\n",
       "    </tr>\n",
       "    <tr>\n",
       "      <th>2</th>\n",
       "      <td>T4CGAp5p25p02p01</td>\n",
       "      <td>1293</td>\n",
       "      <td>11695.822230</td>\n",
       "      <td>8673.104609</td>\n",
       "      <td>15167.458300</td>\n",
       "      <td>10793</td>\n",
       "      <td>10403</td>\n",
       "      <td>7380</td>\n",
       "      <td>13874</td>\n",
       "    </tr>\n",
       "    <tr>\n",
       "      <th>3</th>\n",
       "      <td>T4CGAp5p25p03p01</td>\n",
       "      <td>673</td>\n",
       "      <td>7632.783388</td>\n",
       "      <td>5571.489942</td>\n",
       "      <td>10003.428680</td>\n",
       "      <td>10919</td>\n",
       "      <td>6960</td>\n",
       "      <td>4898</td>\n",
       "      <td>9330</td>\n",
       "    </tr>\n",
       "    <tr>\n",
       "      <th>4</th>\n",
       "      <td>T4CGAp5p25p04p01</td>\n",
       "      <td>509</td>\n",
       "      <td>8643.257345</td>\n",
       "      <td>7222.531446</td>\n",
       "      <td>10567.029970</td>\n",
       "      <td>7434</td>\n",
       "      <td>8134</td>\n",
       "      <td>6714</td>\n",
       "      <td>10058</td>\n",
       "    </tr>\n",
       "    <tr>\n",
       "      <th>5</th>\n",
       "      <td>T4CGAp5p25p05p03</td>\n",
       "      <td>512</td>\n",
       "      <td>8330.056005</td>\n",
       "      <td>6303.864703</td>\n",
       "      <td>12593.470500</td>\n",
       "      <td>5078</td>\n",
       "      <td>7818</td>\n",
       "      <td>5792</td>\n",
       "      <td>12081</td>\n",
       "    </tr>\n",
       "  </tbody>\n",
       "</table>\n",
       "</div>"
      ],
      "text/plain": [
       "             Strain  RepeatSize  MedianAmplificationSize  \\\n",
       "0  T4CGAp5p25p00p01        1601              1734.873363   \n",
       "1  T4CGAp5p25p01p01        1601             12989.967170   \n",
       "2  T4CGAp5p25p02p01        1293             11695.822230   \n",
       "3  T4CGAp5p25p03p01         673              7632.783388   \n",
       "4  T4CGAp5p25p04p01         509              8643.257345   \n",
       "5  T4CGAp5p25p05p03         512              8330.056005   \n",
       "\n",
       "   25QuartileAmplification  75QuartileAmplification  DeletionSize  \\\n",
       "0              1328.132718              2340.833916             0   \n",
       "1              9658.754419             19141.254200         10812   \n",
       "2              8673.104609             15167.458300         10793   \n",
       "3              5571.489942             10003.428680         10919   \n",
       "4              7222.531446             10567.029970          7434   \n",
       "5              6303.864703             12593.470500          5078   \n",
       "\n",
       "   MedianGenomeIncrease  25QuartileGenomeIncrease  75QuartileGenomeIncrease  \n",
       "0                   134                      -273                       740  \n",
       "1                 11389                      8058                     17540  \n",
       "2                 10403                      7380                     13874  \n",
       "3                  6960                      4898                      9330  \n",
       "4                  8134                      6714                     10058  \n",
       "5                  7818                      5792                     12081  "
      ]
     },
     "execution_count": 12,
     "metadata": {},
     "output_type": "execute_result"
    }
   ],
   "source": [
    "##Import csv of data\n",
    "csv_data_dir = os.path.join(data_dir, \"20210411_T4CGAp5_coverage-maps\")\n",
    "csv_file_list = [f for f in os.listdir(csv_data_dir) if f.endswith(\".csv\")]\n",
    "print(\"\\n\".join(csv_file_list))\n",
    "\n",
    "#evol_cl_host_test_frame = pd.read_csv(os.path.join(csv_data_dir, \"20211130_T4CGAp5p25-clones_host-spot-test.csv\"), sep=\",\")\n",
    "#evo_clone_deletion_amplification = pd.read_csv(os.path.join(csv_data_dir, \"20211130_T4CGAp5p25-clones05_deletion_amp-size.csv\"), sep=\",\")\n",
    "evo_clone_deletion_amplification = pd.read_csv(os.path.join(csv_data_dir, \"20220401_T4CGAp5p25-clones05_deletion_amp-size.csv\"), sep=\",\")\n",
    "print(evo_clone_deletion_amplification.columns.values)\n",
    "\n",
    "evo_clone_deletion_amplification['MedianGenomeIncrease'] = evo_clone_deletion_amplification.apply(lambda row: genome_increase_median(row), axis=1)\n",
    "evo_clone_deletion_amplification['25QuartileGenomeIncrease'] = evo_clone_deletion_amplification.apply(lambda row: genome_increase_25quartile(row), axis=1)\n",
    "evo_clone_deletion_amplification['75QuartileGenomeIncrease'] = evo_clone_deletion_amplification.apply(lambda row: genome_increase_75quartile(row), axis=1)\n",
    "\n",
    "#Display dataframe\n",
    "evo_clone_deletion_amplification"
   ]
  },
  {
   "cell_type": "code",
   "execution_count": 29,
   "id": "c030c17f-4f48-4fcb-8c7c-491260f613f7",
   "metadata": {},
   "outputs": [
    {
     "data": {
      "image/png": "[encoded data removed]",
      "text/plain": [
       "<Figure size 504x504 with 1 Axes>"
      ]
     },
     "metadata": {
      "needs_background": "light"
     },
     "output_type": "display_data"
    }
   ],
   "source": [
    "##Plot scatter of genome increase by amplification vs deletion sizes.\n",
    "##Palette that is used in Figure 4 as colors for different evolving populations\n",
    "plot_color_palette = [sns.color_palette(\"Greys\", 4)[2]] + [matplotlib.colors.to_rgb(\"darkmagenta\")] + [matplotlib.colors.to_rgb(\"darkgoldenrod\")] + [matplotlib.colors.to_rgb(\"blue\")] + [matplotlib.colors.to_rgb(\"forestgreen\")] + [matplotlib.colors.to_rgb(\"red\")]\n",
    "\n",
    "fig4, ax4 = plt.subplots(1, 1, figsize=(7,7))\n",
    "#ax4 = sns.scatterplot(x='DeletionSize', y='MeanAmplification', hue='Strain', data=evo_clone_deletion_amplification, marker='o')\n",
    "ax4 = sns.scatterplot(x='DeletionSize', y='MedianGenomeIncrease', hue='Strain', data=evo_clone_deletion_amplification, palette=plot_color_palette, marker='o', s=50, legend='brief')\n",
    "ax4 = sns.scatterplot(x='DeletionSize', y='25QuartileGenomeIncrease', hue='Strain', data=evo_clone_deletion_amplification, palette=plot_color_palette, marker='^', legend=False)\n",
    "ax4 = sns.scatterplot(x='DeletionSize', y='75QuartileGenomeIncrease', hue='Strain', data=evo_clone_deletion_amplification, palette=plot_color_palette, marker='v', legend=False)\n",
    "ax4.set_ylim(-500,18000)\n",
    "ax4.set_xlim(-500,18000)\n",
    "\n",
    "#Adding identity line\n",
    "ax4.plot([0, 1], [0, 1], color='black', transform=ax4.transAxes)\n",
    "\n",
    "savefig(os.path.join(csv_data_dir, \"T4CGAp5p25-clones_deletion-amplification-size_Figure5_220401.pdf\"), dpi=300, transparent=True)"
   ]
  },
  {
   "cell_type": "code",
   "execution_count": null,
   "id": "c12a4c25-7740-48cf-b362-b39074791344",
   "metadata": {},
   "outputs": [],
   "source": []
  }
 ],
 "metadata": {
  "kernelspec": {
   "display_name": "Python 3 (ipykernel)",
   "language": "python",
   "name": "python3"
  },
  "language_info": {
   "codemirror_mode": {
    "name": "ipython",
    "version": 3
   },
   "file_extension": ".py",
   "mimetype": "text/x-python",
   "name": "python",
   "nbconvert_exporter": "python",
   "pygments_lexer": "ipython3",
   "version": "3.7.11"
  }
 },
 "nbformat": 4,
 "nbformat_minor": 5
}
